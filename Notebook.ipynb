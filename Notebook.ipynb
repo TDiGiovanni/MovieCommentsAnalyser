{
 "cells": [
  {
   "cell_type": "markdown",
   "metadata": {},
   "source": [
    "# Classification de documents d'opinions"
   ]
  },
  {
   "cell_type": "markdown",
   "metadata": {},
   "source": [
    "Darnala Baptiste\n",
    "Duverger Eliott\n",
    "Di Giovanni Thomas : 21505926"
   ]
  },
  {
   "cell_type": "markdown",
   "metadata": {},
   "source": [
    "Importer les données :"
   ]
  },
  {
   "cell_type": "code",
   "execution_count": null,
   "metadata": {},
   "outputs": [],
   "source": [
    "import pandas\n",
    "\n",
    "data = pandas.read_csv('Data/dataset.csv', sep='\\t', header = None, encoding = \"utf8\")\n"
   ]
  },
  {
   "cell_type": "markdown",
   "metadata": {},
   "source": [
    "Pré-traitements :\n",
    "Suppressions des stopwords\n",
    "Passage en minuscule\n",
    "Supression de la ponctuation\n",
    "Lemmatisation\n",
    "Stemmatisation\n",
    "Remplacement des nombres\n",
    "Supression de non ASCII\n",
    "Suppression des contractions\n",
    "N-grams (pour prendre en compte la négation)"
   ]
  },
  {
   "cell_type": "code",
   "execution_count": null,
   "metadata": {},
   "outputs": [],
   "source": []
  },
  {
   "cell_type": "markdown",
   "metadata": {},
   "source": [
    "Classifieurs :\n"
   ]
  }
 ],
 "metadata": {
  "kernelspec": {
   "display_name": "Python 3",
   "language": "python",
   "name": "python3"
  },
  "language_info": {
   "codemirror_mode": {
    "name": "ipython",
    "version": 3
   },
   "file_extension": ".py",
   "mimetype": "text/x-python",
   "name": "python",
   "nbconvert_exporter": "python",
   "pygments_lexer": "ipython3",
   "version": "3.6.7"
  }
 },
 "nbformat": 4,
 "nbformat_minor": 2
}
