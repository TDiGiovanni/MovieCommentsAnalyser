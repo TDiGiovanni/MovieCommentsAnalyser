{
 "cells": [
  {
   "cell_type": "markdown",
   "metadata": {},
   "source": [
    "# Classification de documents d'opinions"
   ]
  },
  {
   "cell_type": "markdown",
   "metadata": {},
   "source": [
    "Membres du groupe E :\n",
    "\n",
    "Darnala Baptiste\n",
    "\n",
    "Di Giovanni Thomas (21505926)\n",
    "\n",
    "Duverger Eliott\n",
    "\n",
    "Pierre (dsl je connais pas ton nom de famille)"
   ]
  },
  {
   "cell_type": "markdown",
   "metadata": {},
   "source": [
    "Importer les données :"
   ]
  },
  {
   "cell_type": "code",
   "execution_count": null,
   "metadata": {},
   "outputs": [],
   "source": [
    "import pandas\n",
    "\n",
    "data = pandas.read_csv('Data/dataset.csv', sep='\\t', header = None, encoding = \"utf8\")\n"
   ]
  },
  {
   "cell_type": "markdown",
   "metadata": {},
   "source": [
    "Pré-traitements à tester :\n",
    "\n",
    "Suppressions des stopwords\n",
    "\n",
    "Passage en minuscule\n",
    "\n",
    "Supression de la ponctuation\n",
    "\n",
    "Lemmatisation ou stemmatisation\n",
    "\n",
    "Remplacement des nombres\n",
    "\n",
    "Supression de caractères non ASCII\n",
    "\n",
    "Suppression des contractions\n",
    "\n",
    "N-grams (pour prendre en compte la négation)"
   ]
  },
  {
   "cell_type": "code",
   "execution_count": null,
   "metadata": {},
   "outputs": [],
   "source": []
  },
  {
   "cell_type": "markdown",
   "metadata": {},
   "source": [
    "Classifieurs :\n"
   ]
  },
  {
   "cell_type": "code",
   "execution_count": null,
   "metadata": {},
   "outputs": [],
   "source": []
  }
 ],
 "metadata": {
  "kernelspec": {
   "display_name": "Python 3",
   "language": "python",
   "name": "python3"
  },
  "language_info": {
   "codemirror_mode": {
    "name": "ipython",
    "version": 3
   },
   "file_extension": ".py",
   "mimetype": "text/x-python",
   "name": "python",
   "nbconvert_exporter": "python",
   "pygments_lexer": "ipython3",
   "version": "3.7.1"
  }
 },
 "nbformat": 4,
 "nbformat_minor": 2
}
